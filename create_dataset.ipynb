{
 "cells": [
  {
   "cell_type": "code",
   "execution_count": 8,
   "id": "84356375",
   "metadata": {},
   "outputs": [],
   "source": [
    "from pathlib import Path\n",
    "from urllib.parse import urlparse\n",
    "import urllib.request"
   ]
  },
  {
   "cell_type": "code",
   "execution_count": 9,
   "id": "9f046dc8",
   "metadata": {},
   "outputs": [
    {
     "name": "stdout",
     "output_type": "stream",
     "text": [
      "Téléchargement de pg32854.txt...\n",
      "Téléchargement de pg19657.txt...\n",
      "Téléchargement de pg17489.txt...\n"
     ]
    }
   ],
   "source": [
    "urls = [\n",
    "    \"https://www.gutenberg.org/cache/epub/32854/pg32854.txt\",\n",
    "    \"https://www.gutenberg.org/cache/epub/19657/pg19657.txt\",\n",
    "    \"https://www.gutenberg.org/cache/epub/17489/pg17489.txt\"\n",
    "]\n",
    "\n",
    "data_folder = Path(\"./datasets\")\n",
    "data_folder.mkdir(exist_ok=True)  # crée le dossier si nécessaire\n",
    "\n",
    "for url in urls:\n",
    "    filename = Path(urlparse(url).path).name   # récupère le nom du fichier depuis l'URL\n",
    "    file_path = data_folder / filename        # chemin complet vers le fichier\n",
    "\n",
    "    if not file_path.exists():\n",
    "        print(f\"Téléchargement de {filename}...\")\n",
    "        urllib.request.urlretrieve(url, file_path)\n",
    "    else:\n",
    "        print(f\"{filename} existe déjà, téléchargement ignoré.\")"
   ]
  }
 ],
 "metadata": {
  "kernelspec": {
   "display_name": "venv (3.13.7)",
   "language": "python",
   "name": "python3"
  },
  "language_info": {
   "codemirror_mode": {
    "name": "ipython",
    "version": 3
   },
   "file_extension": ".py",
   "mimetype": "text/x-python",
   "name": "python",
   "nbconvert_exporter": "python",
   "pygments_lexer": "ipython3",
   "version": "3.13.7"
  }
 },
 "nbformat": 4,
 "nbformat_minor": 5
}
